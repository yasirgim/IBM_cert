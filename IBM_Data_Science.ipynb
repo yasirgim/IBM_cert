{
 "cells": [
  {
   "cell_type": "code",
   "execution_count": 2,
   "id": "997a580a",
   "metadata": {},
   "outputs": [],
   "source": [
    "# Data Science Notebook"
   ]
  },
  {
   "cell_type": "code",
   "execution_count": 3,
   "id": "c090b5bf",
   "metadata": {},
   "outputs": [],
   "source": [
    "## Introduction"
   ]
  },
  {
   "cell_type": "code",
   "execution_count": 5,
   "id": "850c4424",
   "metadata": {},
   "outputs": [],
   "source": [
    "## Data Science Languages\n",
    "# Python\n",
    "# R\n",
    "# SQL\n",
    "# Java\n",
    "# Julia"
   ]
  },
  {
   "cell_type": "code",
   "execution_count": 6,
   "id": "9c70d783",
   "metadata": {},
   "outputs": [],
   "source": [
    "# Data Science Libraries\n",
    "# NumPy\n",
    "# Pandas\n",
    "# Matplotlib\n",
    "# Scikit-learn\n",
    "# TensorFlow\n"
   ]
  },
  {
   "cell_type": "code",
   "execution_count": 16,
   "id": "44dce3b0",
   "metadata": {},
   "outputs": [],
   "source": [
    "## Data Science Tools\n",
    "\n",
    "# Tool               Description                         \n",
    "\n",
    "# Jupyter Notebook   An interactive coding environment for creating and sharing documents that contain live code, equations, visualizations, and narrative text. |\n",
    "# GitHub             A platform for version control and collaboration, allowing developers to store and manage their code repositories. |\n",
    "# Tableau            A powerful data visualization tool that helps in transforming raw data into an understandable format, graphs, and visuals. |\n",
    "# Apache Spark       An open-source unified analytics engine for big data processing, with built-in modules for streaming, SQL, machine learning, and graph processing. |\n",
    "# RStudio            An integrated development environment (IDE) for R that makes it easy to write, run, and debug R scripts and Markdown documents. |\n",
    "# Scikit-learn       A machine learning library for Python that provides simple and efficient tools for data mining and data analysis. |\n",
    "# TensorFlow         An open-source library for numerical computation and machine learning, widely used for deep learning models. |\n"
   ]
  },
  {
   "cell_type": "code",
   "execution_count": 11,
   "id": "4cd94fb7",
   "metadata": {},
   "outputs": [],
   "source": [
    "## Arithmetic Expression Examples"
   ]
  },
  {
   "cell_type": "code",
   "execution_count": 12,
   "id": "69792c4f",
   "metadata": {},
   "outputs": [
    {
     "data": {
      "text/plain": [
       "55"
      ]
     },
     "execution_count": 12,
     "metadata": {},
     "output_type": "execute_result"
    }
   ],
   "source": [
    "# Multiply and Add Numbers\n",
    "a = 5\n",
    "b = 10\n",
    "result = (a * b) + a\n",
    "result\n"
   ]
  },
  {
   "cell_type": "code",
   "execution_count": 13,
   "id": "d8a73711",
   "metadata": {},
   "outputs": [
    {
     "data": {
      "text/plain": [
       "2.0"
      ]
     },
     "execution_count": 13,
     "metadata": {},
     "output_type": "execute_result"
    }
   ],
   "source": [
    "# Convert Minutes to Hours\n",
    "def convert_minutes_to_hours(minutes):\n",
    "    hours = minutes / 60\n",
    "    return hours\n",
    "\n",
    "# Example usage\n",
    "convert_minutes_to_hours(120)\n"
   ]
  },
  {
   "cell_type": "code",
   "execution_count": 14,
   "id": "8a288fc5",
   "metadata": {},
   "outputs": [],
   "source": [
    "## Objectives\n",
    "# Understand key data science languages and libraries.\n",
    "# Learn about essential tools used in data science.\n",
    "# Gain practical experience with arithmetic expressions in Python.\n"
   ]
  },
  {
   "cell_type": "code",
   "execution_count": 15,
   "id": "e4ab3aa8",
   "metadata": {},
   "outputs": [],
   "source": [
    "## Muhammet Yasir Gim\n"
   ]
  },
  {
   "cell_type": "code",
   "execution_count": null,
   "id": "764a3cb4",
   "metadata": {},
   "outputs": [],
   "source": []
  }
 ],
 "metadata": {
  "kernelspec": {
   "display_name": "Python 3 (ipykernel)",
   "language": "python",
   "name": "python3"
  },
  "language_info": {
   "codemirror_mode": {
    "name": "ipython",
    "version": 3
   },
   "file_extension": ".py",
   "mimetype": "text/x-python",
   "name": "python",
   "nbconvert_exporter": "python",
   "pygments_lexer": "ipython3",
   "version": "3.11.5"
  }
 },
 "nbformat": 4,
 "nbformat_minor": 5
}
